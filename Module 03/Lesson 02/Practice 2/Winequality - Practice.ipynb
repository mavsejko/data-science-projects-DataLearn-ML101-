{
 "cells": [
  {
   "cell_type": "markdown",
   "metadata": {},
   "source": [
    "# \"Wine Quality.\""
   ]
  },
  {
   "cell_type": "markdown",
   "metadata": {},
   "source": [
    "### _\"Quality ratings of Portuguese white wines\" (Classification task)._"
   ]
  },
  {
   "cell_type": "markdown",
   "metadata": {},
   "source": [
    "## Table of Contents\n",
    "\n",
    "\n",
    "## Part 0: Introduction\n",
    "\n",
    "### Overview\n",
    "The dataset that's we see here contains 12 columns and 4898 entries of data about Portuguese white wines.\n",
    "    \n",
    "**Метаданные:**\n",
    "    \n",
    "* **fixed acidity** \n",
    "\n",
    "* **volatile acidity**\n",
    "\n",
    "* **citric acid** \n",
    "\n",
    "* **residual sugar** \n",
    "\n",
    "* **chlorides** \n",
    "\n",
    "* **free sulfur dioxide** \n",
    "\n",
    "* **total sulfur dioxide**\n",
    "\n",
    "* **density** \n",
    "\n",
    "* **pH** \n",
    "\n",
    "* **sulphates** \n",
    "\n",
    "* **alcohol** \n",
    "\n",
    "* **quality** - score between 3 and 9\n",
    "\n",
    "\n",
    "### Questions:\n",
    "    \n",
    "Predict which wines are 'Good/1' and 'Not Good/0' (use binary classification; check balance of classes; calculate perdictions; choose the best model)\n",
    "\n",
    "\n",
    "## [Part 1: Import, Load Data](#Part-1:-Import,-Load-Data.)\n",
    "* ### Import libraries, Read data from ‘.csv’ file\n",
    "\n",
    "## [Part 2: Exploratory Data Analysis](#Part-2:-Exploratory-Data-Analysis.)\n",
    "* ### Info, Head, Describe\n",
    "* ### Encoding 'quality' attribute\n",
    "* ### 'quality' attribute value counts and visualisation\n",
    "* ### Resampling of an imbalanced dataset\n",
    "* ### Random under-sampling of an imbalanced dataset\n",
    "* ### Random over-sampling of an imbalanced dataset\n",
    "* ### Initialisation of target\n",
    "* ### Drop column 'quality'\n",
    "\n",
    "## [Part 3: Data Wrangling and Transformation](#Part-3:-Data-Wrangling-and-Transformation.)\n",
    "* ### StandardScaler\n",
    "* ### Creating datasets for ML part\n",
    "* ### 'Train\\Test' splitting method\n",
    "\n",
    "## [Part 4: Machine Learning](#Part-4:-Machine-Learning.)\n",
    "* ### Build, train and evaluate models without hyperparameters\n",
    "    * #### Logistic Regression, K-Nearest Neighbors, Decision Trees \n",
    "    * #### Classification report\n",
    "    * #### Confusion Matrix\n",
    "    * #### ROC-AUC score\n",
    "* ### Build, train and evaluate models with hyperparameters\n",
    "    * #### Logistic Regression, K-Nearest Neighbors, Decision Trees \n",
    "    * #### Classification report\n",
    "    * #### Confusion Matrix\n",
    "    * #### ROC-AUC score\n",
    "\n",
    "## [Conclusion](#Conclusion.)\n",
    "\n"
   ]
  },
  {
   "cell_type": "markdown",
   "metadata": {},
   "source": [
    "## Part 1: Import, Load Data."
   ]
  },
  {
   "cell_type": "markdown",
   "metadata": {},
   "source": [
    "* ### Import libraries"
   ]
  },
  {
   "cell_type": "code",
   "execution_count": 38,
   "metadata": {},
   "outputs": [],
   "source": [
    "# import standard libraries\n",
    "import numpy as np\n",
    "import pandas as pd\n",
    "import matplotlib.pyplot as plt\n",
    "import seaborn as sns\n",
    "from scipy import stats\n",
    "from scipy.stats import norm\n",
    "%matplotlib inline\n",
    "sns.set()\n",
    "\n",
    "import sklearn.metrics as metrics\n",
    "from sklearn.metrics import accuracy_score, confusion_matrix, classification_report, roc_auc_score\n",
    "from sklearn.model_selection import train_test_split, GridSearchCV\n",
    "from sklearn.preprocessing import StandardScaler\n",
    "\n",
    "from sklearn.linear_model import LogisticRegression\n",
    "from sklearn.neighbors import KNeighborsClassifier\n",
    "from sklearn.tree import DecisionTreeClassifier\n",
    "\n",
    "import warnings\n",
    "warnings.filterwarnings('ignore')\n"
   ]
  },
  {
   "cell_type": "markdown",
   "metadata": {},
   "source": [
    "* ### Read data from ‘.csv’ file"
   ]
  },
  {
   "cell_type": "code",
   "execution_count": 39,
   "metadata": {},
   "outputs": [],
   "source": [
    "# read data from '.csv' file\n",
    "dataset = pd.read_csv('winequality.csv') "
   ]
  },
  {
   "cell_type": "markdown",
   "metadata": {},
   "source": [
    "## Part 2: Exploratory Data Analysis."
   ]
  },
  {
   "cell_type": "markdown",
   "metadata": {},
   "source": [
    "* ### Info"
   ]
  },
  {
   "cell_type": "code",
   "execution_count": 40,
   "metadata": {
    "scrolled": true
   },
   "outputs": [
    {
     "name": "stdout",
     "output_type": "stream",
     "text": [
      "<class 'pandas.core.frame.DataFrame'>\n",
      "RangeIndex: 4898 entries, 0 to 4897\n",
      "Data columns (total 12 columns):\n",
      " #   Column                Non-Null Count  Dtype  \n",
      "---  ------                --------------  -----  \n",
      " 0   fixed acidity         4898 non-null   float64\n",
      " 1   volatile acidity      4898 non-null   float64\n",
      " 2   citric acid           4898 non-null   float64\n",
      " 3   residual sugar        4898 non-null   float64\n",
      " 4   chlorides             4898 non-null   float64\n",
      " 5   free sulfur dioxide   4898 non-null   float64\n",
      " 6   total sulfur dioxide  4898 non-null   float64\n",
      " 7   density               4898 non-null   float64\n",
      " 8   pH                    4898 non-null   float64\n",
      " 9   sulphates             4898 non-null   float64\n",
      " 10  alcohol               4898 non-null   float64\n",
      " 11  quality               4898 non-null   int64  \n",
      "dtypes: float64(11), int64(1)\n",
      "memory usage: 459.3 KB\n"
     ]
    }
   ],
   "source": [
    "# print the full summary of the dataset  \n",
    "dataset.info()"
   ]
  },
  {
   "cell_type": "markdown",
   "metadata": {},
   "source": [
    "* ### Head"
   ]
  },
  {
   "cell_type": "code",
   "execution_count": 41,
   "metadata": {},
   "outputs": [
    {
     "data": {
      "text/html": [
       "<div>\n",
       "<style scoped>\n",
       "    .dataframe tbody tr th:only-of-type {\n",
       "        vertical-align: middle;\n",
       "    }\n",
       "\n",
       "    .dataframe tbody tr th {\n",
       "        vertical-align: top;\n",
       "    }\n",
       "\n",
       "    .dataframe thead th {\n",
       "        text-align: right;\n",
       "    }\n",
       "</style>\n",
       "<table border=\"1\" class=\"dataframe\">\n",
       "  <thead>\n",
       "    <tr style=\"text-align: right;\">\n",
       "      <th></th>\n",
       "      <th>fixed acidity</th>\n",
       "      <th>volatile acidity</th>\n",
       "      <th>citric acid</th>\n",
       "      <th>residual sugar</th>\n",
       "      <th>chlorides</th>\n",
       "      <th>free sulfur dioxide</th>\n",
       "      <th>total sulfur dioxide</th>\n",
       "      <th>density</th>\n",
       "      <th>pH</th>\n",
       "      <th>sulphates</th>\n",
       "      <th>alcohol</th>\n",
       "      <th>quality</th>\n",
       "    </tr>\n",
       "  </thead>\n",
       "  <tbody>\n",
       "    <tr>\n",
       "      <th>0</th>\n",
       "      <td>7.0</td>\n",
       "      <td>0.27</td>\n",
       "      <td>0.36</td>\n",
       "      <td>20.7</td>\n",
       "      <td>0.045</td>\n",
       "      <td>45.0</td>\n",
       "      <td>170.0</td>\n",
       "      <td>1.0010</td>\n",
       "      <td>3.00</td>\n",
       "      <td>0.45</td>\n",
       "      <td>8.8</td>\n",
       "      <td>6</td>\n",
       "    </tr>\n",
       "    <tr>\n",
       "      <th>1</th>\n",
       "      <td>6.3</td>\n",
       "      <td>0.30</td>\n",
       "      <td>0.34</td>\n",
       "      <td>1.6</td>\n",
       "      <td>0.049</td>\n",
       "      <td>14.0</td>\n",
       "      <td>132.0</td>\n",
       "      <td>0.9940</td>\n",
       "      <td>3.30</td>\n",
       "      <td>0.49</td>\n",
       "      <td>9.5</td>\n",
       "      <td>6</td>\n",
       "    </tr>\n",
       "    <tr>\n",
       "      <th>2</th>\n",
       "      <td>8.1</td>\n",
       "      <td>0.28</td>\n",
       "      <td>0.40</td>\n",
       "      <td>6.9</td>\n",
       "      <td>0.050</td>\n",
       "      <td>30.0</td>\n",
       "      <td>97.0</td>\n",
       "      <td>0.9951</td>\n",
       "      <td>3.26</td>\n",
       "      <td>0.44</td>\n",
       "      <td>10.1</td>\n",
       "      <td>6</td>\n",
       "    </tr>\n",
       "    <tr>\n",
       "      <th>3</th>\n",
       "      <td>7.2</td>\n",
       "      <td>0.23</td>\n",
       "      <td>0.32</td>\n",
       "      <td>8.5</td>\n",
       "      <td>0.058</td>\n",
       "      <td>47.0</td>\n",
       "      <td>186.0</td>\n",
       "      <td>0.9956</td>\n",
       "      <td>3.19</td>\n",
       "      <td>0.40</td>\n",
       "      <td>9.9</td>\n",
       "      <td>6</td>\n",
       "    </tr>\n",
       "    <tr>\n",
       "      <th>4</th>\n",
       "      <td>7.2</td>\n",
       "      <td>0.23</td>\n",
       "      <td>0.32</td>\n",
       "      <td>8.5</td>\n",
       "      <td>0.058</td>\n",
       "      <td>47.0</td>\n",
       "      <td>186.0</td>\n",
       "      <td>0.9956</td>\n",
       "      <td>3.19</td>\n",
       "      <td>0.40</td>\n",
       "      <td>9.9</td>\n",
       "      <td>6</td>\n",
       "    </tr>\n",
       "  </tbody>\n",
       "</table>\n",
       "</div>"
      ],
      "text/plain": [
       "   fixed acidity  volatile acidity  citric acid  residual sugar  chlorides  \\\n",
       "0            7.0              0.27         0.36            20.7      0.045   \n",
       "1            6.3              0.30         0.34             1.6      0.049   \n",
       "2            8.1              0.28         0.40             6.9      0.050   \n",
       "3            7.2              0.23         0.32             8.5      0.058   \n",
       "4            7.2              0.23         0.32             8.5      0.058   \n",
       "\n",
       "   free sulfur dioxide  total sulfur dioxide  density    pH  sulphates  \\\n",
       "0                 45.0                 170.0   1.0010  3.00       0.45   \n",
       "1                 14.0                 132.0   0.9940  3.30       0.49   \n",
       "2                 30.0                  97.0   0.9951  3.26       0.44   \n",
       "3                 47.0                 186.0   0.9956  3.19       0.40   \n",
       "4                 47.0                 186.0   0.9956  3.19       0.40   \n",
       "\n",
       "   alcohol  quality  \n",
       "0      8.8        6  \n",
       "1      9.5        6  \n",
       "2     10.1        6  \n",
       "3      9.9        6  \n",
       "4      9.9        6  "
      ]
     },
     "execution_count": 41,
     "metadata": {},
     "output_type": "execute_result"
    }
   ],
   "source": [
    "# preview of the first 5 lines of the loaded data \n",
    "dataset.head()"
   ]
  },
  {
   "cell_type": "markdown",
   "metadata": {},
   "source": [
    "* ### Describe"
   ]
  },
  {
   "cell_type": "code",
   "execution_count": 42,
   "metadata": {},
   "outputs": [
    {
     "data": {
      "text/html": [
       "<div>\n",
       "<style scoped>\n",
       "    .dataframe tbody tr th:only-of-type {\n",
       "        vertical-align: middle;\n",
       "    }\n",
       "\n",
       "    .dataframe tbody tr th {\n",
       "        vertical-align: top;\n",
       "    }\n",
       "\n",
       "    .dataframe thead th {\n",
       "        text-align: right;\n",
       "    }\n",
       "</style>\n",
       "<table border=\"1\" class=\"dataframe\">\n",
       "  <thead>\n",
       "    <tr style=\"text-align: right;\">\n",
       "      <th></th>\n",
       "      <th>fixed acidity</th>\n",
       "      <th>volatile acidity</th>\n",
       "      <th>citric acid</th>\n",
       "      <th>residual sugar</th>\n",
       "      <th>chlorides</th>\n",
       "      <th>free sulfur dioxide</th>\n",
       "      <th>total sulfur dioxide</th>\n",
       "      <th>density</th>\n",
       "      <th>pH</th>\n",
       "      <th>sulphates</th>\n",
       "      <th>alcohol</th>\n",
       "      <th>quality</th>\n",
       "    </tr>\n",
       "  </thead>\n",
       "  <tbody>\n",
       "    <tr>\n",
       "      <th>count</th>\n",
       "      <td>4898.000000</td>\n",
       "      <td>4898.000000</td>\n",
       "      <td>4898.000000</td>\n",
       "      <td>4898.000000</td>\n",
       "      <td>4898.000000</td>\n",
       "      <td>4898.000000</td>\n",
       "      <td>4898.000000</td>\n",
       "      <td>4898.000000</td>\n",
       "      <td>4898.000000</td>\n",
       "      <td>4898.000000</td>\n",
       "      <td>4898.000000</td>\n",
       "      <td>4898.000000</td>\n",
       "    </tr>\n",
       "    <tr>\n",
       "      <th>mean</th>\n",
       "      <td>6.854788</td>\n",
       "      <td>0.278241</td>\n",
       "      <td>0.334192</td>\n",
       "      <td>6.391415</td>\n",
       "      <td>0.045772</td>\n",
       "      <td>35.308085</td>\n",
       "      <td>138.360657</td>\n",
       "      <td>0.994027</td>\n",
       "      <td>3.188267</td>\n",
       "      <td>0.489847</td>\n",
       "      <td>10.514267</td>\n",
       "      <td>5.877909</td>\n",
       "    </tr>\n",
       "    <tr>\n",
       "      <th>std</th>\n",
       "      <td>0.843868</td>\n",
       "      <td>0.100795</td>\n",
       "      <td>0.121020</td>\n",
       "      <td>5.072058</td>\n",
       "      <td>0.021848</td>\n",
       "      <td>17.007137</td>\n",
       "      <td>42.498065</td>\n",
       "      <td>0.002991</td>\n",
       "      <td>0.151001</td>\n",
       "      <td>0.114126</td>\n",
       "      <td>1.230621</td>\n",
       "      <td>0.885639</td>\n",
       "    </tr>\n",
       "    <tr>\n",
       "      <th>min</th>\n",
       "      <td>3.800000</td>\n",
       "      <td>0.080000</td>\n",
       "      <td>0.000000</td>\n",
       "      <td>0.600000</td>\n",
       "      <td>0.009000</td>\n",
       "      <td>2.000000</td>\n",
       "      <td>9.000000</td>\n",
       "      <td>0.987110</td>\n",
       "      <td>2.720000</td>\n",
       "      <td>0.220000</td>\n",
       "      <td>8.000000</td>\n",
       "      <td>3.000000</td>\n",
       "    </tr>\n",
       "    <tr>\n",
       "      <th>25%</th>\n",
       "      <td>6.300000</td>\n",
       "      <td>0.210000</td>\n",
       "      <td>0.270000</td>\n",
       "      <td>1.700000</td>\n",
       "      <td>0.036000</td>\n",
       "      <td>23.000000</td>\n",
       "      <td>108.000000</td>\n",
       "      <td>0.991723</td>\n",
       "      <td>3.090000</td>\n",
       "      <td>0.410000</td>\n",
       "      <td>9.500000</td>\n",
       "      <td>5.000000</td>\n",
       "    </tr>\n",
       "    <tr>\n",
       "      <th>50%</th>\n",
       "      <td>6.800000</td>\n",
       "      <td>0.260000</td>\n",
       "      <td>0.320000</td>\n",
       "      <td>5.200000</td>\n",
       "      <td>0.043000</td>\n",
       "      <td>34.000000</td>\n",
       "      <td>134.000000</td>\n",
       "      <td>0.993740</td>\n",
       "      <td>3.180000</td>\n",
       "      <td>0.470000</td>\n",
       "      <td>10.400000</td>\n",
       "      <td>6.000000</td>\n",
       "    </tr>\n",
       "    <tr>\n",
       "      <th>75%</th>\n",
       "      <td>7.300000</td>\n",
       "      <td>0.320000</td>\n",
       "      <td>0.390000</td>\n",
       "      <td>9.900000</td>\n",
       "      <td>0.050000</td>\n",
       "      <td>46.000000</td>\n",
       "      <td>167.000000</td>\n",
       "      <td>0.996100</td>\n",
       "      <td>3.280000</td>\n",
       "      <td>0.550000</td>\n",
       "      <td>11.400000</td>\n",
       "      <td>6.000000</td>\n",
       "    </tr>\n",
       "    <tr>\n",
       "      <th>max</th>\n",
       "      <td>14.200000</td>\n",
       "      <td>1.100000</td>\n",
       "      <td>1.660000</td>\n",
       "      <td>65.800000</td>\n",
       "      <td>0.346000</td>\n",
       "      <td>289.000000</td>\n",
       "      <td>440.000000</td>\n",
       "      <td>1.038980</td>\n",
       "      <td>3.820000</td>\n",
       "      <td>1.080000</td>\n",
       "      <td>14.200000</td>\n",
       "      <td>9.000000</td>\n",
       "    </tr>\n",
       "  </tbody>\n",
       "</table>\n",
       "</div>"
      ],
      "text/plain": [
       "       fixed acidity  volatile acidity  citric acid  residual sugar  \\\n",
       "count    4898.000000       4898.000000  4898.000000     4898.000000   \n",
       "mean        6.854788          0.278241     0.334192        6.391415   \n",
       "std         0.843868          0.100795     0.121020        5.072058   \n",
       "min         3.800000          0.080000     0.000000        0.600000   \n",
       "25%         6.300000          0.210000     0.270000        1.700000   \n",
       "50%         6.800000          0.260000     0.320000        5.200000   \n",
       "75%         7.300000          0.320000     0.390000        9.900000   \n",
       "max        14.200000          1.100000     1.660000       65.800000   \n",
       "\n",
       "         chlorides  free sulfur dioxide  total sulfur dioxide      density  \\\n",
       "count  4898.000000          4898.000000           4898.000000  4898.000000   \n",
       "mean      0.045772            35.308085            138.360657     0.994027   \n",
       "std       0.021848            17.007137             42.498065     0.002991   \n",
       "min       0.009000             2.000000              9.000000     0.987110   \n",
       "25%       0.036000            23.000000            108.000000     0.991723   \n",
       "50%       0.043000            34.000000            134.000000     0.993740   \n",
       "75%       0.050000            46.000000            167.000000     0.996100   \n",
       "max       0.346000           289.000000            440.000000     1.038980   \n",
       "\n",
       "                pH    sulphates      alcohol      quality  \n",
       "count  4898.000000  4898.000000  4898.000000  4898.000000  \n",
       "mean      3.188267     0.489847    10.514267     5.877909  \n",
       "std       0.151001     0.114126     1.230621     0.885639  \n",
       "min       2.720000     0.220000     8.000000     3.000000  \n",
       "25%       3.090000     0.410000     9.500000     5.000000  \n",
       "50%       3.180000     0.470000    10.400000     6.000000  \n",
       "75%       3.280000     0.550000    11.400000     6.000000  \n",
       "max       3.820000     1.080000    14.200000     9.000000  "
      ]
     },
     "execution_count": 42,
     "metadata": {},
     "output_type": "execute_result"
    }
   ],
   "source": [
    "dataset.describe()"
   ]
  },
  {
   "cell_type": "markdown",
   "metadata": {},
   "source": [
    "* ### Encoding 'quality' attribute"
   ]
  },
  {
   "cell_type": "code",
   "execution_count": 43,
   "metadata": {},
   "outputs": [],
   "source": [
    "# lambda function; wine quality from 3-6 == 0, from 7-9 == 1.\n",
    "dataset['quality'] = dataset.quality.apply(lambda x: 0 if x >= 3 and x >=6 else 1)"
   ]
  },
  {
   "cell_type": "code",
   "execution_count": 44,
   "metadata": {},
   "outputs": [
    {
     "data": {
      "text/html": [
       "<div>\n",
       "<style scoped>\n",
       "    .dataframe tbody tr th:only-of-type {\n",
       "        vertical-align: middle;\n",
       "    }\n",
       "\n",
       "    .dataframe tbody tr th {\n",
       "        vertical-align: top;\n",
       "    }\n",
       "\n",
       "    .dataframe thead th {\n",
       "        text-align: right;\n",
       "    }\n",
       "</style>\n",
       "<table border=\"1\" class=\"dataframe\">\n",
       "  <thead>\n",
       "    <tr style=\"text-align: right;\">\n",
       "      <th></th>\n",
       "      <th>fixed acidity</th>\n",
       "      <th>volatile acidity</th>\n",
       "      <th>citric acid</th>\n",
       "      <th>residual sugar</th>\n",
       "      <th>chlorides</th>\n",
       "      <th>free sulfur dioxide</th>\n",
       "      <th>total sulfur dioxide</th>\n",
       "      <th>density</th>\n",
       "      <th>pH</th>\n",
       "      <th>sulphates</th>\n",
       "      <th>alcohol</th>\n",
       "      <th>quality</th>\n",
       "    </tr>\n",
       "  </thead>\n",
       "  <tbody>\n",
       "    <tr>\n",
       "      <th>0</th>\n",
       "      <td>7.0</td>\n",
       "      <td>0.27</td>\n",
       "      <td>0.36</td>\n",
       "      <td>20.7</td>\n",
       "      <td>0.045</td>\n",
       "      <td>45.0</td>\n",
       "      <td>170.0</td>\n",
       "      <td>1.0010</td>\n",
       "      <td>3.00</td>\n",
       "      <td>0.45</td>\n",
       "      <td>8.8</td>\n",
       "      <td>0</td>\n",
       "    </tr>\n",
       "    <tr>\n",
       "      <th>1</th>\n",
       "      <td>6.3</td>\n",
       "      <td>0.30</td>\n",
       "      <td>0.34</td>\n",
       "      <td>1.6</td>\n",
       "      <td>0.049</td>\n",
       "      <td>14.0</td>\n",
       "      <td>132.0</td>\n",
       "      <td>0.9940</td>\n",
       "      <td>3.30</td>\n",
       "      <td>0.49</td>\n",
       "      <td>9.5</td>\n",
       "      <td>0</td>\n",
       "    </tr>\n",
       "    <tr>\n",
       "      <th>2</th>\n",
       "      <td>8.1</td>\n",
       "      <td>0.28</td>\n",
       "      <td>0.40</td>\n",
       "      <td>6.9</td>\n",
       "      <td>0.050</td>\n",
       "      <td>30.0</td>\n",
       "      <td>97.0</td>\n",
       "      <td>0.9951</td>\n",
       "      <td>3.26</td>\n",
       "      <td>0.44</td>\n",
       "      <td>10.1</td>\n",
       "      <td>0</td>\n",
       "    </tr>\n",
       "    <tr>\n",
       "      <th>3</th>\n",
       "      <td>7.2</td>\n",
       "      <td>0.23</td>\n",
       "      <td>0.32</td>\n",
       "      <td>8.5</td>\n",
       "      <td>0.058</td>\n",
       "      <td>47.0</td>\n",
       "      <td>186.0</td>\n",
       "      <td>0.9956</td>\n",
       "      <td>3.19</td>\n",
       "      <td>0.40</td>\n",
       "      <td>9.9</td>\n",
       "      <td>0</td>\n",
       "    </tr>\n",
       "    <tr>\n",
       "      <th>4</th>\n",
       "      <td>7.2</td>\n",
       "      <td>0.23</td>\n",
       "      <td>0.32</td>\n",
       "      <td>8.5</td>\n",
       "      <td>0.058</td>\n",
       "      <td>47.0</td>\n",
       "      <td>186.0</td>\n",
       "      <td>0.9956</td>\n",
       "      <td>3.19</td>\n",
       "      <td>0.40</td>\n",
       "      <td>9.9</td>\n",
       "      <td>0</td>\n",
       "    </tr>\n",
       "  </tbody>\n",
       "</table>\n",
       "</div>"
      ],
      "text/plain": [
       "   fixed acidity  volatile acidity  citric acid  residual sugar  chlorides  \\\n",
       "0            7.0              0.27         0.36            20.7      0.045   \n",
       "1            6.3              0.30         0.34             1.6      0.049   \n",
       "2            8.1              0.28         0.40             6.9      0.050   \n",
       "3            7.2              0.23         0.32             8.5      0.058   \n",
       "4            7.2              0.23         0.32             8.5      0.058   \n",
       "\n",
       "   free sulfur dioxide  total sulfur dioxide  density    pH  sulphates  \\\n",
       "0                 45.0                 170.0   1.0010  3.00       0.45   \n",
       "1                 14.0                 132.0   0.9940  3.30       0.49   \n",
       "2                 30.0                  97.0   0.9951  3.26       0.44   \n",
       "3                 47.0                 186.0   0.9956  3.19       0.40   \n",
       "4                 47.0                 186.0   0.9956  3.19       0.40   \n",
       "\n",
       "   alcohol  quality  \n",
       "0      8.8        0  \n",
       "1      9.5        0  \n",
       "2     10.1        0  \n",
       "3      9.9        0  \n",
       "4      9.9        0  "
      ]
     },
     "execution_count": 44,
     "metadata": {},
     "output_type": "execute_result"
    }
   ],
   "source": [
    "# preview of the first 5 lines of the loaded data \n",
    "dataset.head()"
   ]
  },
  {
   "cell_type": "markdown",
   "metadata": {},
   "source": [
    "* ### 'quality' attribute value counts and visualisation"
   ]
  },
  {
   "cell_type": "code",
   "execution_count": 45,
   "metadata": {},
   "outputs": [
    {
     "name": "stdout",
     "output_type": "stream",
     "text": [
      "Not good wine 66.52 % of the dataset\n",
      "Good wine 33.48 % of the dataset\n"
     ]
    },
    {
     "data": {
      "text/plain": [
       "0    3258\n",
       "1    1640\n",
       "Name: quality, dtype: int64"
      ]
     },
     "execution_count": 45,
     "metadata": {},
     "output_type": "execute_result"
    }
   ],
   "source": [
    "print('Not good wine', round(dataset.quality.value_counts()[0]/len(dataset)*100, 2), '% of the dataset')\n",
    "print('Good wine', round(dataset.quality.value_counts()[1]/len(dataset)*100, 2), '% of the dataset')\n",
    "\n",
    "dataset.quality.value_counts()"
   ]
  },
  {
   "cell_type": "code",
   "execution_count": 46,
   "metadata": {
    "scrolled": false
   },
   "outputs": [
    {
     "data": {
      "text/plain": [
       "<AxesSubplot:>"
      ]
     },
     "execution_count": 46,
     "metadata": {},
     "output_type": "execute_result"
    },
    {
     "data": {
      "image/png": "[encoded data removed]",
      "text/plain": [
       "<Figure size 432x288 with 1 Axes>"
      ]
     },
     "metadata": {},
     "output_type": "display_data"
    }
   ],
   "source": [
    "# visualisation plot\n",
    "print('Not good wine', round(dataset['quality'].value_counts()[0]/len(dataset) * 100,2), '% of the dataset')\n",
    "print('Good wine', round(dataset['quality'].value_counts()[1]/len(dataset) * 100,2), '% of the dataset')\n",
    "\n",
    "dataset['quality'].value_counts()"
   ]
  },
  {
   "cell_type": "markdown",
   "metadata": {},
   "source": [
    "There are 66.52 % of 'Not Good' quality wines and only 33.48 % of 'Good' quality wines in our dataset. This means that our dataset is imbalanced."
   ]
  },
  {
   "cell_type": "markdown",
   "metadata": {},
   "source": [
    "* ### Resampling of an imbalanced dataset"
   ]
  },
  {
   "cell_type": "code",
   "execution_count": 47,
   "metadata": {},
   "outputs": [
    {
     "name": "stdout",
     "output_type": "stream",
     "text": [
      "class_0 3258\n",
      "class_1 1640\n"
     ]
    }
   ],
   "source": [
    "# class count\n",
    "count_class_0, count_class_1 = dataset.quality.value_counts()\n",
    "\n",
    "# divide by class\n",
    "class_0 = dataset[dataset['quality'] == 0]\n",
    "class_1 = dataset[dataset['quality'] == 1]\n",
    "\n",
    "print('class_0', len(class_0))\n",
    "print('class_1', len(class_1))"
   ]
  },
  {
   "cell_type": "markdown",
   "metadata": {},
   "source": [
    "* ### Random under-sampling of an imbalanced dataset"
   ]
  },
  {
   "cell_type": "code",
   "execution_count": 48,
   "metadata": {},
   "outputs": [
    {
     "name": "stdout",
     "output_type": "stream",
     "text": [
      "Random under-sampling:\n",
      "0    1640\n",
      "1    1640\n",
      "Name: quality, dtype: int64\n"
     ]
    },
    {
     "data": {
      "image/png": "[encoded data removed]",
      "text/plain": [
       "<Figure size 432x288 with 1 Axes>"
      ]
     },
     "metadata": {},
     "output_type": "display_data"
    }
   ],
   "source": [
    "class_0_under = class_0.sample(count_class_1)\n",
    "dataset_under = pd.concat([class_0_under, class_1], axis=0)\n",
    "\n",
    "print('Random under-sampling:')\n",
    "print(dataset_under.quality.value_counts())\n",
    "\n",
    "dataset_under.quality.value_counts().plot(kind='bar', title='Count (target)');"
   ]
  },
  {
   "cell_type": "markdown",
   "metadata": {},
   "source": [
    "* ### Random over-sampling of an imbalanced dataset"
   ]
  },
  {
   "cell_type": "code",
   "execution_count": 49,
   "metadata": {},
   "outputs": [
    {
     "name": "stdout",
     "output_type": "stream",
     "text": [
      "Random over-sampling:\n",
      "0    3258\n",
      "1    3258\n",
      "Name: quality, dtype: int64\n"
     ]
    },
    {
     "data": {
      "image/png": "[encoded data removed]",
      "text/plain": [
       "<Figure size 432x288 with 1 Axes>"
      ]
     },
     "metadata": {},
     "output_type": "display_data"
    }
   ],
   "source": [
    "class_1_over = class_1.sample(count_class_0, replace=True)\n",
    "dataset_over = pd.concat([class_0, class_1_over], axis=0)\n",
    "\n",
    "print('Random over-sampling:')\n",
    "print(dataset_over.quality.value_counts())\n",
    "\n",
    "dataset_over.quality.value_counts().plot(kind='bar', title='Count (target)');"
   ]
  },
  {
   "cell_type": "markdown",
   "metadata": {},
   "source": [
    "* ### Initialisation of target"
   ]
  },
  {
   "cell_type": "code",
   "execution_count": 50,
   "metadata": {},
   "outputs": [],
   "source": [
    "# initialisation of target\n",
    "target = dataset['quality']\n",
    "\n",
    "# for under-sampling dataset\n",
    "target_under = dataset_under['quality']\n",
    "\n",
    "# for over-sampling dataset\n",
    "target_over = dataset_over['quality'] "
   ]
  },
  {
   "cell_type": "markdown",
   "metadata": {},
   "source": [
    "* ### Drop column 'quality'"
   ]
  },
  {
   "cell_type": "code",
   "execution_count": 51,
   "metadata": {},
   "outputs": [],
   "source": [
    "dataset = dataset.drop(columns=['quality'])\n",
    "\n",
    "# for under-sampling dataset\n",
    "dataset_under = dataset_under.drop(columns=['quality'])\n",
    "\n",
    "# for over-sampling dataset\n",
    "dataset_over = dataset_over.drop(columns=['quality'])"
   ]
  },
  {
   "cell_type": "markdown",
   "metadata": {},
   "source": [
    "## Part 3: Data Wrangling and Transformation."
   ]
  },
  {
   "cell_type": "markdown",
   "metadata": {},
   "source": [
    "* ### StandardScaler"
   ]
  },
  {
   "cell_type": "code",
   "execution_count": 52,
   "metadata": {},
   "outputs": [
    {
     "data": {
      "text/html": [
       "<div>\n",
       "<style scoped>\n",
       "    .dataframe tbody tr th:only-of-type {\n",
       "        vertical-align: middle;\n",
       "    }\n",
       "\n",
       "    .dataframe tbody tr th {\n",
       "        vertical-align: top;\n",
       "    }\n",
       "\n",
       "    .dataframe thead th {\n",
       "        text-align: right;\n",
       "    }\n",
       "</style>\n",
       "<table border=\"1\" class=\"dataframe\">\n",
       "  <thead>\n",
       "    <tr style=\"text-align: right;\">\n",
       "      <th></th>\n",
       "      <th>0</th>\n",
       "      <th>1</th>\n",
       "      <th>2</th>\n",
       "      <th>3</th>\n",
       "      <th>4</th>\n",
       "      <th>5</th>\n",
       "      <th>6</th>\n",
       "      <th>7</th>\n",
       "      <th>8</th>\n",
       "      <th>9</th>\n",
       "      <th>10</th>\n",
       "    </tr>\n",
       "  </thead>\n",
       "  <tbody>\n",
       "    <tr>\n",
       "      <th>0</th>\n",
       "      <td>0.172097</td>\n",
       "      <td>-0.081770</td>\n",
       "      <td>0.213280</td>\n",
       "      <td>2.821349</td>\n",
       "      <td>-0.035355</td>\n",
       "      <td>0.569932</td>\n",
       "      <td>0.744565</td>\n",
       "      <td>2.331512</td>\n",
       "      <td>-1.246921</td>\n",
       "      <td>-0.349184</td>\n",
       "      <td>-1.393152</td>\n",
       "    </tr>\n",
       "    <tr>\n",
       "      <th>1</th>\n",
       "      <td>-0.657501</td>\n",
       "      <td>0.215896</td>\n",
       "      <td>0.048001</td>\n",
       "      <td>-0.944765</td>\n",
       "      <td>0.147747</td>\n",
       "      <td>-1.253019</td>\n",
       "      <td>-0.149685</td>\n",
       "      <td>-0.009154</td>\n",
       "      <td>0.740029</td>\n",
       "      <td>0.001342</td>\n",
       "      <td>-0.824276</td>\n",
       "    </tr>\n",
       "    <tr>\n",
       "      <th>2</th>\n",
       "      <td>1.475751</td>\n",
       "      <td>0.017452</td>\n",
       "      <td>0.543838</td>\n",
       "      <td>0.100282</td>\n",
       "      <td>0.193523</td>\n",
       "      <td>-0.312141</td>\n",
       "      <td>-0.973336</td>\n",
       "      <td>0.358665</td>\n",
       "      <td>0.475102</td>\n",
       "      <td>-0.436816</td>\n",
       "      <td>-0.336667</td>\n",
       "    </tr>\n",
       "    <tr>\n",
       "      <th>3</th>\n",
       "      <td>0.409125</td>\n",
       "      <td>-0.478657</td>\n",
       "      <td>-0.117278</td>\n",
       "      <td>0.415768</td>\n",
       "      <td>0.559727</td>\n",
       "      <td>0.687541</td>\n",
       "      <td>1.121091</td>\n",
       "      <td>0.525855</td>\n",
       "      <td>0.011480</td>\n",
       "      <td>-0.787342</td>\n",
       "      <td>-0.499203</td>\n",
       "    </tr>\n",
       "    <tr>\n",
       "      <th>4</th>\n",
       "      <td>0.409125</td>\n",
       "      <td>-0.478657</td>\n",
       "      <td>-0.117278</td>\n",
       "      <td>0.415768</td>\n",
       "      <td>0.559727</td>\n",
       "      <td>0.687541</td>\n",
       "      <td>1.121091</td>\n",
       "      <td>0.525855</td>\n",
       "      <td>0.011480</td>\n",
       "      <td>-0.787342</td>\n",
       "      <td>-0.499203</td>\n",
       "    </tr>\n",
       "  </tbody>\n",
       "</table>\n",
       "</div>"
      ],
      "text/plain": [
       "         0         1         2         3         4         5         6   \\\n",
       "0  0.172097 -0.081770  0.213280  2.821349 -0.035355  0.569932  0.744565   \n",
       "1 -0.657501  0.215896  0.048001 -0.944765  0.147747 -1.253019 -0.149685   \n",
       "2  1.475751  0.017452  0.543838  0.100282  0.193523 -0.312141 -0.973336   \n",
       "3  0.409125 -0.478657 -0.117278  0.415768  0.559727  0.687541  1.121091   \n",
       "4  0.409125 -0.478657 -0.117278  0.415768  0.559727  0.687541  1.121091   \n",
       "\n",
       "         7         8         9         10  \n",
       "0  2.331512 -1.246921 -0.349184 -1.393152  \n",
       "1 -0.009154  0.740029  0.001342 -0.824276  \n",
       "2  0.358665  0.475102 -0.436816 -0.336667  \n",
       "3  0.525855  0.011480 -0.787342 -0.499203  \n",
       "4  0.525855  0.011480 -0.787342 -0.499203  "
      ]
     },
     "execution_count": 52,
     "metadata": {},
     "output_type": "execute_result"
    }
   ],
   "source": [
    "# StandardScaler \n",
    "sc = StandardScaler()\n",
    "\n",
    "dataset_sc = sc.fit_transform(dataset)\n",
    "dataset_sc = pd.DataFrame(dataset_sc)\n",
    "\n",
    "# for under-sampling dataset\n",
    "dataset_sc_under = sc.fit_transform(dataset_under)\n",
    "dataset_sc_under = pd.DataFrame(dataset_sc_under)\n",
    "\n",
    "# for over-sampling dataset\n",
    "dataset_sc_over = sc.fit_transform(dataset_over)\n",
    "dataset_sc_over = pd.DataFrame(dataset_sc_over)\n",
    "\n",
    "dataset_sc.head()"
   ]
  },
  {
   "cell_type": "markdown",
   "metadata": {},
   "source": [
    "* ### Creating datasets for ML part"
   ]
  },
  {
   "cell_type": "code",
   "execution_count": 53,
   "metadata": {},
   "outputs": [],
   "source": [
    "# set 'X' for features' and y' for the target ('quality').\n",
    "y = target\n",
    "X = dataset_sc.copy()\n",
    "\n",
    "# for under-sampling dataset \n",
    "y_under = target_under\n",
    "X_under = dataset_sc_under.copy()\n",
    "\n",
    "# for over-sampling dataset \n",
    "y_over = target_over\n",
    "X_over = dataset_sc_over.copy() \n"
   ]
  },
  {
   "cell_type": "code",
   "execution_count": 54,
   "metadata": {
    "scrolled": true
   },
   "outputs": [
    {
     "data": {
      "text/html": [
       "<div>\n",
       "<style scoped>\n",
       "    .dataframe tbody tr th:only-of-type {\n",
       "        vertical-align: middle;\n",
       "    }\n",
       "\n",
       "    .dataframe tbody tr th {\n",
       "        vertical-align: top;\n",
       "    }\n",
       "\n",
       "    .dataframe thead th {\n",
       "        text-align: right;\n",
       "    }\n",
       "</style>\n",
       "<table border=\"1\" class=\"dataframe\">\n",
       "  <thead>\n",
       "    <tr style=\"text-align: right;\">\n",
       "      <th></th>\n",
       "      <th>0</th>\n",
       "      <th>1</th>\n",
       "      <th>2</th>\n",
       "      <th>3</th>\n",
       "      <th>4</th>\n",
       "      <th>5</th>\n",
       "      <th>6</th>\n",
       "      <th>7</th>\n",
       "      <th>8</th>\n",
       "      <th>9</th>\n",
       "      <th>10</th>\n",
       "    </tr>\n",
       "  </thead>\n",
       "  <tbody>\n",
       "    <tr>\n",
       "      <th>0</th>\n",
       "      <td>0.172097</td>\n",
       "      <td>-0.081770</td>\n",
       "      <td>0.213280</td>\n",
       "      <td>2.821349</td>\n",
       "      <td>-0.035355</td>\n",
       "      <td>0.569932</td>\n",
       "      <td>0.744565</td>\n",
       "      <td>2.331512</td>\n",
       "      <td>-1.246921</td>\n",
       "      <td>-0.349184</td>\n",
       "      <td>-1.393152</td>\n",
       "    </tr>\n",
       "    <tr>\n",
       "      <th>1</th>\n",
       "      <td>-0.657501</td>\n",
       "      <td>0.215896</td>\n",
       "      <td>0.048001</td>\n",
       "      <td>-0.944765</td>\n",
       "      <td>0.147747</td>\n",
       "      <td>-1.253019</td>\n",
       "      <td>-0.149685</td>\n",
       "      <td>-0.009154</td>\n",
       "      <td>0.740029</td>\n",
       "      <td>0.001342</td>\n",
       "      <td>-0.824276</td>\n",
       "    </tr>\n",
       "    <tr>\n",
       "      <th>2</th>\n",
       "      <td>1.475751</td>\n",
       "      <td>0.017452</td>\n",
       "      <td>0.543838</td>\n",
       "      <td>0.100282</td>\n",
       "      <td>0.193523</td>\n",
       "      <td>-0.312141</td>\n",
       "      <td>-0.973336</td>\n",
       "      <td>0.358665</td>\n",
       "      <td>0.475102</td>\n",
       "      <td>-0.436816</td>\n",
       "      <td>-0.336667</td>\n",
       "    </tr>\n",
       "    <tr>\n",
       "      <th>3</th>\n",
       "      <td>0.409125</td>\n",
       "      <td>-0.478657</td>\n",
       "      <td>-0.117278</td>\n",
       "      <td>0.415768</td>\n",
       "      <td>0.559727</td>\n",
       "      <td>0.687541</td>\n",
       "      <td>1.121091</td>\n",
       "      <td>0.525855</td>\n",
       "      <td>0.011480</td>\n",
       "      <td>-0.787342</td>\n",
       "      <td>-0.499203</td>\n",
       "    </tr>\n",
       "    <tr>\n",
       "      <th>4</th>\n",
       "      <td>0.409125</td>\n",
       "      <td>-0.478657</td>\n",
       "      <td>-0.117278</td>\n",
       "      <td>0.415768</td>\n",
       "      <td>0.559727</td>\n",
       "      <td>0.687541</td>\n",
       "      <td>1.121091</td>\n",
       "      <td>0.525855</td>\n",
       "      <td>0.011480</td>\n",
       "      <td>-0.787342</td>\n",
       "      <td>-0.499203</td>\n",
       "    </tr>\n",
       "  </tbody>\n",
       "</table>\n",
       "</div>"
      ],
      "text/plain": [
       "         0         1         2         3         4         5         6   \\\n",
       "0  0.172097 -0.081770  0.213280  2.821349 -0.035355  0.569932  0.744565   \n",
       "1 -0.657501  0.215896  0.048001 -0.944765  0.147747 -1.253019 -0.149685   \n",
       "2  1.475751  0.017452  0.543838  0.100282  0.193523 -0.312141 -0.973336   \n",
       "3  0.409125 -0.478657 -0.117278  0.415768  0.559727  0.687541  1.121091   \n",
       "4  0.409125 -0.478657 -0.117278  0.415768  0.559727  0.687541  1.121091   \n",
       "\n",
       "         7         8         9         10  \n",
       "0  2.331512 -1.246921 -0.349184 -1.393152  \n",
       "1 -0.009154  0.740029  0.001342 -0.824276  \n",
       "2  0.358665  0.475102 -0.436816 -0.336667  \n",
       "3  0.525855  0.011480 -0.787342 -0.499203  \n",
       "4  0.525855  0.011480 -0.787342 -0.499203  "
      ]
     },
     "execution_count": 54,
     "metadata": {},
     "output_type": "execute_result"
    }
   ],
   "source": [
    "# preview of the first 5 lines of the loaded data \n",
    "X.head()"
   ]
  },
  {
   "cell_type": "markdown",
   "metadata": {},
   "source": [
    "* ### 'Train\\Test' split"
   ]
  },
  {
   "cell_type": "code",
   "execution_count": 55,
   "metadata": {},
   "outputs": [],
   "source": [
    "# apply 'Train\\Test' splitting method\n",
    "X_train, X_test, y_train, y_test = train_test_split(X, y, test_size=0.2, random_state=0)"
   ]
  },
  {
   "cell_type": "code",
   "execution_count": 59,
   "metadata": {},
   "outputs": [
    {
     "data": {
      "text/plain": [
       "((3918, 11), (3918,))"
      ]
     },
     "execution_count": 59,
     "metadata": {},
     "output_type": "execute_result"
    }
   ],
   "source": [
    "# print shape of X_train and y_train\n",
    "X_train.shape, y_train.shape"
   ]
  },
  {
   "cell_type": "code",
   "execution_count": 60,
   "metadata": {},
   "outputs": [
    {
     "data": {
      "text/plain": [
       "((980, 11), (980,))"
      ]
     },
     "execution_count": 60,
     "metadata": {},
     "output_type": "execute_result"
    }
   ],
   "source": [
    "# print shape of X_test and y_test\n",
    "X_test.shape, y_test.shape"
   ]
  },
  {
   "cell_type": "code",
   "execution_count": 58,
   "metadata": {},
   "outputs": [],
   "source": [
    "# apply 'Train\\Test' splitting method for under-sampling dataset \n",
    "X_train_under, X_test_under, y_train_under, y_test_under = train_test_split(X_under, y_under, test_size=0.2, random_state=0)"
   ]
  },
  {
   "cell_type": "code",
   "execution_count": 61,
   "metadata": {},
   "outputs": [
    {
     "data": {
      "text/plain": [
       "((2624, 11), (2624,))"
      ]
     },
     "execution_count": 61,
     "metadata": {},
     "output_type": "execute_result"
    }
   ],
   "source": [
    "# print shape of X_train and y_train for under-sampling dataset \n",
    "X_train_under.shape, y_train_under.shape"
   ]
  },
  {
   "cell_type": "code",
   "execution_count": 62,
   "metadata": {},
   "outputs": [
    {
     "data": {
      "text/plain": [
       "((656, 11), (656,))"
      ]
     },
     "execution_count": 62,
     "metadata": {},
     "output_type": "execute_result"
    }
   ],
   "source": [
    "# print shape of X_test and y_test for under-sampling dataset\n",
    "X_test_under.shape, y_test_under.shape"
   ]
  },
  {
   "cell_type": "code",
   "execution_count": 63,
   "metadata": {},
   "outputs": [],
   "source": [
    "# apply 'Train\\Test' splitting method for over-sampling dataset\n",
    "X_train_over, X_test_over, y_train_over, y_test_over = train_test_split(X_over, y_over, test_size=0.2, random_state=0)"
   ]
  },
  {
   "cell_type": "code",
   "execution_count": 64,
   "metadata": {},
   "outputs": [
    {
     "data": {
      "text/plain": [
       "((5212, 11), (5212,))"
      ]
     },
     "execution_count": 64,
     "metadata": {},
     "output_type": "execute_result"
    }
   ],
   "source": [
    "# print shape of X_train and y_train for over-sampling dataset \n",
    "X_train_over.shape, y_train_over.shape"
   ]
  },
  {
   "cell_type": "code",
   "execution_count": 65,
   "metadata": {
    "scrolled": false
   },
   "outputs": [
    {
     "data": {
      "text/plain": [
       "((1304, 11), (1304,))"
      ]
     },
     "execution_count": 65,
     "metadata": {},
     "output_type": "execute_result"
    }
   ],
   "source": [
    "# print shape of X_test and y_test for over-sampling dataset\n",
    "X_test_over.shape, y_test_over.shape"
   ]
  },
  {
   "cell_type": "markdown",
   "metadata": {},
   "source": [
    "## Part 4: Machine Learning."
   ]
  },
  {
   "cell_type": "markdown",
   "metadata": {},
   "source": [
    "* ### Build, train and evaluate models without hyperparameters"
   ]
  },
  {
   "cell_type": "markdown",
   "metadata": {},
   "source": [
    "* Logistic Regression\n",
    "* K-Nearest Neighbors\n",
    "* Decision Trees\n"
   ]
  },
  {
   "cell_type": "code",
   "execution_count": 68,
   "metadata": {},
   "outputs": [],
   "source": [
    "# Logistic Regression\n",
    "LR = LogisticRegression()\n",
    "LR.fit(X_train, y_train)\n",
    "LR_pred = LR.predict(X_test)\n",
    "\n",
    "# K-Nearest Neighbors\n",
    "KNN = KNeighborsClassifier()\n",
    "KNN.fit(X_train, y_train)\n",
    "KNN_pred = KNN.predict(X_test)\n",
    "\n",
    "# Decision Tree\n",
    "DT = DecisionTreeClassifier(random_state = 0)\n",
    "DT.fit(X_train, y_train)\n",
    "DT_pred = DT.predict(X_test)"
   ]
  },
  {
   "cell_type": "code",
   "execution_count": 69,
   "metadata": {},
   "outputs": [],
   "source": [
    "#for under-sampling dataset\n",
    "\n",
    "# Logistic Regression\n",
    "LR_under = LogisticRegression()\n",
    "LR_under.fit(X_train_under, y_train_under)\n",
    "LR_pred_under = LR.predict(X_test_under)\n",
    "\n",
    "# K-Nearest Neighbors\n",
    "KNN_under = KNeighborsClassifier()\n",
    "KNN_under.fit(X_train_under, y_train_under)\n",
    "KNN_pred_under = KNN.predict(X_test_under)\n",
    "\n",
    "# Decision Tree\n",
    "DT_under = DecisionTreeClassifier(random_state = 0)\n",
    "DT_under.fit(X_train_under, y_train_under)\n",
    "DT_pred_under = DT.predict(X_test_under)"
   ]
  },
  {
   "cell_type": "code",
   "execution_count": 70,
   "metadata": {},
   "outputs": [],
   "source": [
    "#for over-sampling dataset\n",
    "\n",
    "# Logistic Regression\n",
    "LR_over = LogisticRegression()\n",
    "LR_over.fit(X_train_over, y_train_over)\n",
    "LR_pred_over = LR.predict(X_test_over)\n",
    "\n",
    "# K-Nearest Neighbors\n",
    "KNN_over = KNeighborsClassifier()\n",
    "KNN_over.fit(X_train_over, y_train_over)\n",
    "KNN_pred_over = KNN.predict(X_test_over)\n",
    "\n",
    "# Decision Tree\n",
    "DT_over = DecisionTreeClassifier(random_state = 0)\n",
    "DT_over.fit(X_train_over, y_train_over)\n",
    "DT_pred_over = DT.predict(X_test_over)"
   ]
  },
  {
   "cell_type": "markdown",
   "metadata": {},
   "source": [
    "* ### Classification report"
   ]
  },
  {
   "cell_type": "code",
   "execution_count": 71,
   "metadata": {
    "scrolled": true
   },
   "outputs": [
    {
     "name": "stdout",
     "output_type": "stream",
     "text": [
      "LR Classification Report: \n",
      "               precision    recall  f1-score   support\n",
      "\n",
      "           0   0.781421  0.878648  0.827187       651\n",
      "           1   0.681452  0.513678  0.585789       329\n",
      "\n",
      "    accuracy                       0.756122       980\n",
      "   macro avg   0.731436  0.696163  0.706488       980\n",
      "weighted avg   0.747860  0.756122  0.746146       980\n",
      "\n",
      "KNN Classification Report: \n",
      "               precision    recall  f1-score   support\n",
      "\n",
      "           0   0.801749  0.844854  0.822737       651\n",
      "           1   0.656463  0.586626  0.619583       329\n",
      "\n",
      "    accuracy                       0.758163       980\n",
      "   macro avg   0.729106  0.715740  0.721160       980\n",
      "weighted avg   0.752974  0.758163  0.754536       980\n",
      "\n",
      "DT Classification Report: \n",
      "               precision    recall  f1-score   support\n",
      "\n",
      "           0   0.832551  0.817204  0.824806       651\n",
      "           1   0.651026  0.674772  0.662687       329\n",
      "\n",
      "    accuracy                       0.769388       980\n",
      "   macro avg   0.741789  0.745988  0.743746       980\n",
      "weighted avg   0.771611  0.769388  0.770380       980\n",
      "\n"
     ]
    }
   ],
   "source": [
    "print(\"LR Classification Report: \\n\", classification_report(y_test, LR_pred, digits = 6))\n",
    "print(\"KNN Classification Report: \\n\", classification_report(y_test, KNN_pred, digits = 6))\n",
    "print(\"DT Classification Report: \\n\", classification_report(y_test, DT_pred, digits = 6))"
   ]
  },
  {
   "cell_type": "code",
   "execution_count": 73,
   "metadata": {},
   "outputs": [
    {
     "name": "stdout",
     "output_type": "stream",
     "text": [
      "Classification report for under-sampling dataset\n",
      "\n",
      "LR Classification Report: \n",
      "               precision    recall  f1-score   support\n",
      "\n",
      "           0   0.610136  0.939940  0.739953       333\n",
      "           1   0.860140  0.380805  0.527897       323\n",
      "\n",
      "    accuracy                       0.664634       656\n",
      "   macro avg   0.735138  0.660372  0.633925       656\n",
      "weighted avg   0.733233  0.664634  0.635541       656\n",
      "\n",
      "KNN Classification Report: \n",
      "               precision    recall  f1-score   support\n",
      "\n",
      "           0   0.737589  0.936937  0.825397       333\n",
      "           1   0.909871  0.656347  0.762590       323\n",
      "\n",
      "    accuracy                       0.798780       656\n",
      "   macro avg   0.823730  0.796642  0.793993       656\n",
      "weighted avg   0.822417  0.798780  0.794472       656\n",
      "\n",
      "DT Classification Report: \n",
      "               precision    recall  f1-score   support\n",
      "\n",
      "           0   0.777778  0.903904  0.836111       333\n",
      "           1   0.881041  0.733746  0.800676       323\n",
      "\n",
      "    accuracy                       0.820122       656\n",
      "   macro avg   0.829409  0.818825  0.818393       656\n",
      "weighted avg   0.828622  0.820122  0.818663       656\n",
      "\n"
     ]
    }
   ],
   "source": [
    "#for under-sampling dataset\n",
    "print('Classification report for under-sampling dataset')\n",
    "print()\n",
    "print(\"LR Classification Report: \\n\", classification_report(y_test_under, LR_pred_under, digits = 6))\n",
    "print(\"KNN Classification Report: \\n\", classification_report(y_test_under, KNN_pred_under, digits = 6))\n",
    "print(\"DT Classification Report: \\n\", classification_report(y_test_under, DT_pred_under, digits = 6))"
   ]
  },
  {
   "cell_type": "code",
   "execution_count": 74,
   "metadata": {},
   "outputs": [
    {
     "name": "stdout",
     "output_type": "stream",
     "text": [
      "Classification report for over-sampling dataset\n",
      "\n",
      "LR Classification Report: \n",
      "               precision    recall  f1-score   support\n",
      "\n",
      "           0   0.621735  0.907012  0.737756       656\n",
      "           1   0.824207  0.441358  0.574874       648\n",
      "\n",
      "    accuracy                       0.675613      1304\n",
      "   macro avg   0.722971  0.674185  0.656315      1304\n",
      "weighted avg   0.722350  0.675613  0.656815      1304\n",
      "\n",
      "KNN Classification Report: \n",
      "               precision    recall  f1-score   support\n",
      "\n",
      "           0   0.731946  0.911585  0.811948       656\n",
      "           1   0.880903  0.662037  0.755947       648\n",
      "\n",
      "    accuracy                       0.787577      1304\n",
      "   macro avg   0.806425  0.786811  0.783948      1304\n",
      "weighted avg   0.805968  0.787577  0.784120      1304\n",
      "\n",
      "DT Classification Report: \n",
      "               precision    recall  f1-score   support\n",
      "\n",
      "           0   0.752270  0.884146  0.812894       656\n",
      "           1   0.857411  0.705247  0.773920       648\n",
      "\n",
      "    accuracy                       0.795245      1304\n",
      "   macro avg   0.804840  0.794697  0.793407      1304\n",
      "weighted avg   0.804518  0.795245  0.793527      1304\n",
      "\n"
     ]
    }
   ],
   "source": [
    "#for over-sampling dataset\n",
    "print('Classification report for over-sampling dataset')\n",
    "print()\n",
    "print(\"LR Classification Report: \\n\", classification_report(y_test_over, LR_pred_over, digits = 6))\n",
    "print(\"KNN Classification Report: \\n\", classification_report(y_test_over, KNN_pred_over, digits = 6))\n",
    "print(\"DT Classification Report: \\n\", classification_report(y_test_over, DT_pred_over, digits = 6))"
   ]
  },
  {
   "cell_type": "markdown",
   "metadata": {},
   "source": [
    "* ### Confusion matrix"
   ]
  },
  {
   "cell_type": "code",
   "execution_count": 83,
   "metadata": {},
   "outputs": [
    {
     "name": "stdout",
     "output_type": "stream",
     "text": [
      "LR Confusion Matrix: \n",
      " [[572  79]\n",
      " [160 169]]\n",
      "\n",
      "KNN Confusion Matrix: \n",
      " [[550 101]\n",
      " [136 193]]\n",
      "\n",
      "DT Confusion Matrix: \n",
      " [[532 119]\n",
      " [107 222]]\n",
      "\n"
     ]
    }
   ],
   "source": [
    "#for imbalanced dataset\n",
    "\n",
    "LR_confusion_mx = confusion_matrix(y_test, LR_pred)\n",
    "print(\"LR Confusion Matrix: \\n\", LR_confusion_mx)\n",
    "print()\n",
    "KNN_confusion_mx = confusion_matrix(y_test, KNN_pred)\n",
    "print(\"KNN Confusion Matrix: \\n\", KNN_confusion_mx)\n",
    "print()\n",
    "DT_confusion_mx = confusion_matrix(y_test, DT_pred)\n",
    "print(\"DT Confusion Matrix: \\n\", DT_confusion_mx)\n",
    "print()"
   ]
  },
  {
   "cell_type": "code",
   "execution_count": 80,
   "metadata": {},
   "outputs": [
    {
     "name": "stdout",
     "output_type": "stream",
     "text": [
      "LR Confusion Matrix: \n",
      " [[313  20]\n",
      " [200 123]]\n",
      "\n",
      "KNN Confusion Matrix: \n",
      " [[312  21]\n",
      " [111 212]]\n",
      "\n",
      "DT Confusion Matrix: \n",
      " [[301  32]\n",
      " [ 86 237]]\n",
      "\n"
     ]
    }
   ],
   "source": [
    "#for under-sampling dataset\n",
    "\n",
    "LR_confusion_mx_under = confusion_matrix(y_test_under, LR_pred_under)\n",
    "print(\"LR Confusion Matrix: \\n\", LR_confusion_mx_under)\n",
    "print()\n",
    "KNN_confusion_mx_under = confusion_matrix(y_test_under, KNN_pred_under)\n",
    "print(\"KNN Confusion Matrix: \\n\", KNN_confusion_mx_under)\n",
    "print()\n",
    "DT_confusion_mx_under = confusion_matrix(y_test_under, DT_pred_under)\n",
    "print(\"DT Confusion Matrix: \\n\", DT_confusion_mx_under)\n",
    "print()"
   ]
  },
  {
   "cell_type": "code",
   "execution_count": 81,
   "metadata": {},
   "outputs": [
    {
     "name": "stdout",
     "output_type": "stream",
     "text": [
      "LR Confusion Matrix: \n",
      " [[595  61]\n",
      " [362 286]]\n",
      "\n",
      "KNN Confusion Matrix: \n",
      " [[598  58]\n",
      " [219 429]]\n",
      "\n",
      "DT Confusion Matrix: \n",
      " [[580  76]\n",
      " [191 457]]\n",
      "\n"
     ]
    }
   ],
   "source": [
    "#for over-sampling dataset\n",
    "\n",
    "LR_confusion_mx_over = confusion_matrix(y_test_over, LR_pred_over)\n",
    "print(\"LR Confusion Matrix: \\n\", LR_confusion_mx_over)\n",
    "print()\n",
    "KNN_confusion_mx_over = confusion_matrix(y_test_over, KNN_pred_over)\n",
    "print(\"KNN Confusion Matrix: \\n\", KNN_confusion_mx_over)\n",
    "print()\n",
    "DT_confusion_mx_over = confusion_matrix(y_test_over, DT_pred_over)\n",
    "print(\"DT Confusion Matrix: \\n\", DT_confusion_mx_over)\n",
    "print()"
   ]
  },
  {
   "cell_type": "markdown",
   "metadata": {},
   "source": [
    "* ### ROC-AUC score"
   ]
  },
  {
   "cell_type": "code",
   "execution_count": 82,
   "metadata": {
    "scrolled": true
   },
   "outputs": [
    {
     "name": "stdout",
     "output_type": "stream",
     "text": [
      "roc_auc_score with imbalanced dataset\n"
     ]
    },
    {
     "data": {
      "text/plain": [
       "0.7417886268408758"
      ]
     },
     "execution_count": 82,
     "metadata": {},
     "output_type": "execute_result"
    }
   ],
   "source": [
    "#for imbalanced dataset\n",
    "\n",
    "print('roc_auc_score for imbalanced dataset')\n",
    "roc_auc_score(DT_pred, y_test)"
   ]
  },
  {
   "cell_type": "code",
   "execution_count": 84,
   "metadata": {},
   "outputs": [
    {
     "name": "stdout",
     "output_type": "stream",
     "text": [
      "roc_auc_score for under-sampling dataset\n"
     ]
    },
    {
     "data": {
      "text/plain": [
       "0.8294093349855433"
      ]
     },
     "execution_count": 84,
     "metadata": {},
     "output_type": "execute_result"
    }
   ],
   "source": [
    "#for under-sampling dataset\n",
    "\n",
    "print('roc_auc_score for under-sampling dataset')\n",
    "roc_auc_score(DT_pred_under, y_test_under)"
   ]
  },
  {
   "cell_type": "code",
   "execution_count": 85,
   "metadata": {},
   "outputs": [
    {
     "name": "stdout",
     "output_type": "stream",
     "text": [
      "roc_auc_score for over-sampling dataset\n"
     ]
    },
    {
     "data": {
      "text/plain": [
       "0.8048403306541296"
      ]
     },
     "execution_count": 85,
     "metadata": {},
     "output_type": "execute_result"
    }
   ],
   "source": [
    "#for over-sampling dataset\n",
    "\n",
    "print('roc_auc_score for over-sampling dataset')\n",
    "roc_auc_score(DT_pred_over, y_test_over)"
   ]
  },
  {
   "cell_type": "markdown",
   "metadata": {},
   "source": [
    "* ### Build, train and evaluate models with hyperparameters"
   ]
  },
  {
   "cell_type": "code",
   "execution_count": 88,
   "metadata": {},
   "outputs": [],
   "source": [
    "#for imbalanced dataset\n",
    "\n",
    "# Logistic Regression\n",
    "LR = LogisticRegression()\n",
    "LR_params = {'C':[1,2,3,4,5,6,7,8,9,10], 'penalty':['l1', 'l2', 'elasticnet', 'none'], 'solver':['lbfgs', 'newton-cg', 'liblinear', 'sag', 'saga'], 'random_state':[0]}\n",
    "LR1 = GridSearchCV(LR, param_grid = LR_params)\n",
    "LR1.fit(X_train, y_train)\n",
    "LR1_pred = LR1.predict(X_test)\n",
    "\n",
    "# K-Nearest Neighbors\n",
    "KNN = KNeighborsClassifier()\n",
    "KNN_params = {'n_neighbors':[5,7,9,11]}\n",
    "KNN1 = GridSearchCV(KNN, param_grid = KNN_params)             \n",
    "KNN1.fit(X_train, y_train)\n",
    "KNN1_pred = KNN1.predict(X_test)\n",
    "\n",
    "# Decision Tree\n",
    "DT = DecisionTreeClassifier()\n",
    "DT_params = {'max_depth':[2,10,15,20], 'criterion':['gini', 'entropy'], 'random_state':[0]}\n",
    "DT1 = GridSearchCV(DT, param_grid = DT_params)\n",
    "DT1.fit(X_train, y_train)\n",
    "DT1_pred = DT1.predict(X_test)\n"
   ]
  },
  {
   "cell_type": "code",
   "execution_count": 89,
   "metadata": {},
   "outputs": [
    {
     "name": "stdout",
     "output_type": "stream",
     "text": [
      "Logistic Regression Best Hyper Parameters:    {'C': 2, 'penalty': 'l1', 'random_state': 0, 'solver': 'saga'}\n",
      "K-Nearest Neighbour Best Hyper Parameters:    {'n_neighbors': 9}\n",
      "Decision Tree Best Hyper Parameters:          {'criterion': 'gini', 'max_depth': 15, 'random_state': 0}\n"
     ]
    }
   ],
   "source": [
    "# print the best hyper parameters set (for imbalanced dataset)\n",
    "print(\"Logistic Regression Best Hyper Parameters:   \", LR1.best_params_)\n",
    "print(\"K-Nearest Neighbour Best Hyper Parameters:   \", KNN1.best_params_)\n",
    "print(\"Decision Tree Best Hyper Parameters:         \", DT1.best_params_)"
   ]
  },
  {
   "cell_type": "code",
   "execution_count": 90,
   "metadata": {},
   "outputs": [],
   "source": [
    "#for under-sampling dataset\n",
    "\n",
    "# Logistic Regression\n",
    "LR_under = LogisticRegression()\n",
    "LR_params = {'C':[1,2,3,4,5,6,7,8,9,10], 'penalty':['l1', 'l2', 'elasticnet', 'none'], 'solver':['lbfgs', 'newton-cg', 'liblinear', 'sag', 'saga'], 'random_state':[0]}\n",
    "LR1_under = GridSearchCV(LR_under, param_grid = LR_params)\n",
    "LR1_under.fit(X_train_under, y_train_under)\n",
    "LR1_pred_under = LR1_under.predict(X_test_under)\n",
    "\n",
    "# K-Nearest Neighbors\n",
    "KNN_under = KNeighborsClassifier()\n",
    "KNN_params = {'n_neighbors':[5,7,9,11]}\n",
    "KNN1_under = GridSearchCV(KNN_under, param_grid = KNN_params)             \n",
    "KNN1_under.fit(X_train_under, y_train_under)\n",
    "KNN1_pred_under = KNN1_under.predict(X_test_under)\n",
    "\n",
    "# Decision Tree\n",
    "DT_under = DecisionTreeClassifier()\n",
    "DT_params = {'max_depth':[2,10,15,20], 'criterion':['gini', 'entropy'], 'random_state':[0]}\n",
    "DT1_under = GridSearchCV(DT_under, param_grid = DT_params)\n",
    "DT1_under.fit(X_train_under, y_train_under)\n",
    "DT1_pred_under = DT1_under.predict(X_test_under)"
   ]
  },
  {
   "cell_type": "code",
   "execution_count": 95,
   "metadata": {},
   "outputs": [
    {
     "name": "stdout",
     "output_type": "stream",
     "text": [
      "Logistic Regression Best Hyper Parameters (under-sampling d_set):    {'C': 1, 'penalty': 'l1', 'random_state': 0, 'solver': 'liblinear'}\n",
      "K-Nearest Neighbour Best Hyper Parameters (under-sampling d_set):    {'n_neighbors': 11}\n",
      "Decision Tree Best Hyper Parameters (under-sampling d_set):          {'criterion': 'gini', 'max_depth': 15, 'random_state': 0}\n"
     ]
    }
   ],
   "source": [
    "# print the best hyper parameters set (for under-sampling dataset)\n",
    "print(\"Logistic Regression Best Hyper Parameters (under-sampling d_set):   \", LR1_under.best_params_)\n",
    "print(\"K-Nearest Neighbour Best Hyper Parameters (under-sampling d_set):   \", KNN1_under.best_params_)\n",
    "print(\"Decision Tree Best Hyper Parameters (under-sampling d_set):         \", DT1_under.best_params_)"
   ]
  },
  {
   "cell_type": "code",
   "execution_count": 105,
   "metadata": {},
   "outputs": [],
   "source": [
    "#for over-sampling dataset\n",
    "\n",
    "# Logistic Regression\n",
    "LR_over = LogisticRegression()\n",
    "LR_params = {'C':[1,2,3,4,5,6,7,8,9,10], 'penalty':['l1', 'l2', 'elasticnet', 'none'], 'solver':['lbfgs', 'newton-cg', 'liblinear', 'sag', 'saga'], 'random_state':[0]}\n",
    "LR1_over = GridSearchCV(LR_over, param_grid = LR_params)\n",
    "LR1_over.fit(X_train_over, y_train_over)\n",
    "LR1_pred_over = LR1_over.predict(X_test_over)\n",
    "\n",
    "# K-Nearest Neighbors\n",
    "KNN_over = KNeighborsClassifier()\n",
    "KNN_params = {'n_neighbors':[5,7,9,11]}\n",
    "KNN1_over = GridSearchCV(KNN_over, param_grid = KNN_params)             \n",
    "KNN1_over.fit(X_train_over, y_train_over)\n",
    "KNN1_pred_over = KNN1_over.predict(X_test_over)\n",
    "\n",
    "# Decision Tree\n",
    "DT_over = DecisionTreeClassifier()\n",
    "DT_params = {'max_depth':[2,10,15,20], 'criterion':['gini', 'entropy'], 'random_state':[0]}\n",
    "DT1_over = GridSearchCV(DT_over, param_grid = DT_params)\n",
    "DT1_over.fit(X_train_over, y_train_over)\n",
    "DT1_pred_over = DT1_over.predict(X_test_over)"
   ]
  },
  {
   "cell_type": "code",
   "execution_count": 106,
   "metadata": {},
   "outputs": [
    {
     "name": "stdout",
     "output_type": "stream",
     "text": [
      "Logistic Regression Best Hyper Parameters (over-sampling d_set):    {'C': 2, 'penalty': 'l2', 'random_state': 0, 'solver': 'lbfgs'}\n",
      "K-Nearest Neighbour Best Hyper Parameters (over-sampling d_set):    {'n_neighbors': 5}\n",
      "Decision Tree Best Hyper Parameters (over-sampling d_set):          {'criterion': 'entropy', 'max_depth': 20, 'random_state': 0}\n"
     ]
    }
   ],
   "source": [
    "# print the best hyper parameters set (for over-sampling dataset)\n",
    "print(\"Logistic Regression Best Hyper Parameters (over-sampling d_set):   \", LR1_over.best_params_)\n",
    "print(\"K-Nearest Neighbour Best Hyper Parameters (over-sampling d_set):   \", KNN1_over.best_params_)\n",
    "print(\"Decision Tree Best Hyper Parameters (over-sampling d_set):         \", DT1_over.best_params_)"
   ]
  },
  {
   "cell_type": "markdown",
   "metadata": {},
   "source": [
    "* ### Classification report"
   ]
  },
  {
   "cell_type": "code",
   "execution_count": 107,
   "metadata": {},
   "outputs": [
    {
     "name": "stdout",
     "output_type": "stream",
     "text": [
      "LR Classification Report: \n",
      "               precision    recall  f1-score   support\n",
      "\n",
      "           0   0.782192  0.877112  0.826937       651\n",
      "           1   0.680000  0.516717  0.587219       329\n",
      "\n",
      "    accuracy                       0.756122       980\n",
      "   macro avg   0.731096  0.696915  0.707078       980\n",
      "weighted avg   0.747885  0.756122  0.746460       980\n",
      "\n",
      "KNN Classification Report: \n",
      "               precision    recall  f1-score   support\n",
      "\n",
      "           0   0.797432  0.858679  0.826923       651\n",
      "           1   0.670251  0.568389  0.615132       329\n",
      "\n",
      "    accuracy                       0.761224       980\n",
      "   macro avg   0.733842  0.713534  0.721027       980\n",
      "weighted avg   0.754736  0.761224  0.755822       980\n",
      "\n",
      "DT Classification Report: \n",
      "               precision    recall  f1-score   support\n",
      "\n",
      "           0   0.825816  0.815668  0.820711       651\n",
      "           1   0.643917  0.659574  0.651652       329\n",
      "\n",
      "    accuracy                       0.763265       980\n",
      "   macro avg   0.734867  0.737621  0.736181       980\n",
      "weighted avg   0.764750  0.763265  0.763955       980\n",
      "\n"
     ]
    }
   ],
   "source": [
    "#for imbalanced dataset\n",
    "\n",
    "print(\"LR Classification Report: \\n\", classification_report(y_test, LR1_pred, digits = 6))\n",
    "print(\"KNN Classification Report: \\n\", classification_report(y_test, KNN1_pred, digits = 6))\n",
    "print(\"DT Classification Report: \\n\", classification_report(y_test, DT1_pred, digits = 6))"
   ]
  },
  {
   "cell_type": "code",
   "execution_count": 108,
   "metadata": {},
   "outputs": [
    {
     "name": "stdout",
     "output_type": "stream",
     "text": [
      "LR Classification Report: \n",
      "               precision    recall  f1-score   support\n",
      "\n",
      "           0   0.755486  0.723724  0.739264       333\n",
      "           1   0.727003  0.758514  0.742424       323\n",
      "\n",
      "    accuracy                       0.740854       656\n",
      "   macro avg   0.741244  0.741119  0.740844       656\n",
      "weighted avg   0.741462  0.740854  0.740820       656\n",
      "\n",
      "KNN Classification Report: \n",
      "               precision    recall  f1-score   support\n",
      "\n",
      "           0   0.756250  0.726727  0.741194       333\n",
      "           1   0.729167  0.758514  0.743551       323\n",
      "\n",
      "    accuracy                       0.742378       656\n",
      "   macro avg   0.742708  0.742620  0.742373       656\n",
      "weighted avg   0.742915  0.742378  0.742355       656\n",
      "\n",
      "DT Classification Report: \n",
      "               precision    recall  f1-score   support\n",
      "\n",
      "           0   0.741840  0.750751  0.746269       333\n",
      "           1   0.739812  0.730650  0.735202       323\n",
      "\n",
      "    accuracy                       0.740854       656\n",
      "   macro avg   0.740826  0.740700  0.740736       656\n",
      "weighted avg   0.740841  0.740854  0.740820       656\n",
      "\n"
     ]
    }
   ],
   "source": [
    "#for under-sampling dataset\n",
    "\n",
    "print(\"LR Classification Report: \\n\", classification_report(y_test_under, LR1_pred_under, digits = 6))\n",
    "print(\"KNN Classification Report: \\n\", classification_report(y_test_under, KNN1_pred_under, digits = 6))\n",
    "print(\"DT Classification Report: \\n\", classification_report(y_test_under, DT1_pred_under, digits = 6))"
   ]
  },
  {
   "cell_type": "code",
   "execution_count": 109,
   "metadata": {},
   "outputs": [
    {
     "name": "stdout",
     "output_type": "stream",
     "text": [
      "LR Classification Report: \n",
      "               precision    recall  f1-score   support\n",
      "\n",
      "           0   0.730000  0.667683  0.697452       656\n",
      "           1   0.690341  0.750000  0.718935       648\n",
      "\n",
      "    accuracy                       0.708589      1304\n",
      "   macro avg   0.710170  0.708841  0.708194      1304\n",
      "weighted avg   0.710292  0.708589  0.708128      1304\n",
      "\n",
      "KNN Classification Report: \n",
      "               precision    recall  f1-score   support\n",
      "\n",
      "           0   0.825719  0.743902  0.782678       656\n",
      "           1   0.764376  0.841049  0.800882       648\n",
      "\n",
      "    accuracy                       0.792178      1304\n",
      "   macro avg   0.795047  0.792476  0.791780      1304\n",
      "weighted avg   0.795236  0.792178  0.791724      1304\n",
      "\n",
      "DT Classification Report: \n",
      "               precision    recall  f1-score   support\n",
      "\n",
      "           0   0.938250  0.833841  0.882970       656\n",
      "           1   0.848821  0.944444  0.894083       648\n",
      "\n",
      "    accuracy                       0.888804      1304\n",
      "   macro avg   0.893536  0.889143  0.888527      1304\n",
      "weighted avg   0.893810  0.888804  0.888493      1304\n",
      "\n"
     ]
    }
   ],
   "source": [
    "#for over-sampling dataset\n",
    "\n",
    "print(\"LR Classification Report: \\n\", classification_report(y_test_over, LR1_pred_over, digits = 6))\n",
    "print(\"KNN Classification Report: \\n\", classification_report(y_test_over, KNN1_pred_over, digits = 6))\n",
    "print(\"DT Classification Report: \\n\", classification_report(y_test_over, DT1_pred_over, digits = 6))"
   ]
  },
  {
   "cell_type": "markdown",
   "metadata": {},
   "source": [
    "* ### Confusion matrix"
   ]
  },
  {
   "cell_type": "code",
   "execution_count": 121,
   "metadata": {},
   "outputs": [
    {
     "name": "stdout",
     "output_type": "stream",
     "text": [
      "DT Confusion Matrix\n"
     ]
    },
    {
     "data": {
      "image/png": "[encoded data removed]",
      "text/plain": [
       "<Figure size 432x288 with 2 Axes>"
      ]
     },
     "metadata": {},
     "output_type": "display_data"
    },
    {
     "name": "stdout",
     "output_type": "stream",
     "text": [
      "\n"
     ]
    }
   ],
   "source": [
    "# confusion matrix of DT model (for imbalanced dataset)\n",
    "DT_confusion_mx = confusion_matrix(y_test, DT1_pred)\n",
    "print('DT Confusion Matrix')\n",
    "\n",
    "# visualisation\n",
    "ax = plt.subplot()\n",
    "sns.heatmap(DT_confusion_mx, annot = True, fmt = 'd', cmap = 'Blues', ax = ax, linewidths = 0.5, annot_kws = {'size': 15})\n",
    "ax.set_ylabel('True label')\n",
    "ax.set_xlabel('Predicted label')\n",
    "ax.xaxis.set_ticklabels(['0', '1'], fontsize = 10)\n",
    "ax.yaxis.set_ticklabels(['0', '1'], fontsize = 10)\n",
    "plt.show()\n",
    "print() "
   ]
  },
  {
   "cell_type": "code",
   "execution_count": 129,
   "metadata": {},
   "outputs": [
    {
     "name": "stdout",
     "output_type": "stream",
     "text": [
      "DT Confusion Matrix for under-sampling dataset\n"
     ]
    },
    {
     "data": {
      "image/png": "[encoded data removed]",
      "text/plain": [
       "<Figure size 432x288 with 2 Axes>"
      ]
     },
     "metadata": {},
     "output_type": "display_data"
    },
    {
     "name": "stdout",
     "output_type": "stream",
     "text": [
      "\n"
     ]
    }
   ],
   "source": [
    "# confusion matrix of DT model (for under-sampling dataset)\n",
    "DT_confusion_mx_under = confusion_matrix(y_test_under, DT1_pred_under)\n",
    "print('DT Confusion Matrix for under-sampling dataset')\n",
    "\n",
    "# visualisation\n",
    "ax = plt.subplot()\n",
    "sns.heatmap(DT_confusion_mx_under, annot = True, fmt = 'd', cmap = 'Blues', ax = ax, linewidths = 0.5, annot_kws = {'size': 15})\n",
    "ax.set_ylabel('True label')\n",
    "ax.set_xlabel('Predicted label')\n",
    "ax.xaxis.set_ticklabels(['0', '1'], fontsize = 10)\n",
    "ax.yaxis.set_ticklabels(['0', '1'], fontsize = 10)\n",
    "plt.show()\n",
    "print() "
   ]
  },
  {
   "cell_type": "code",
   "execution_count": 128,
   "metadata": {},
   "outputs": [
    {
     "name": "stdout",
     "output_type": "stream",
     "text": [
      "DT Confusion Matrix for over-sampling dataset\n"
     ]
    },
    {
     "data": {
      "image/png": "[encoded data removed]",
      "text/plain": [
       "<Figure size 432x288 with 2 Axes>"
      ]
     },
     "metadata": {},
     "output_type": "display_data"
    },
    {
     "name": "stdout",
     "output_type": "stream",
     "text": [
      "\n"
     ]
    }
   ],
   "source": [
    "# confusion matrix of DT model (for over-sampling dataset)\n",
    "DT_confusion_mx_over = confusion_matrix(y_test_over, DT1_pred_over)\n",
    "print('DT Confusion Matrix for over-sampling dataset')\n",
    "\n",
    "# visualisation\n",
    "ax = plt.subplot()\n",
    "sns.heatmap(DT_confusion_mx_over, annot = True, fmt = 'd', cmap = 'Blues', ax = ax, linewidths = 0.5, annot_kws = {'size': 15})\n",
    "ax.set_ylabel('True label')\n",
    "ax.set_xlabel('Predicted label')\n",
    "ax.xaxis.set_ticklabels(['0', '1'], fontsize = 10)\n",
    "ax.yaxis.set_ticklabels(['0', '1'], fontsize = 10)\n",
    "plt.show()\n",
    "print() "
   ]
  },
  {
   "cell_type": "markdown",
   "metadata": {},
   "source": [
    "* ### ROC-AUC score"
   ]
  },
  {
   "cell_type": "code",
   "execution_count": 125,
   "metadata": {},
   "outputs": [
    {
     "data": {
      "text/plain": [
       "0.7348666995860466"
      ]
     },
     "execution_count": 125,
     "metadata": {},
     "output_type": "execute_result"
    }
   ],
   "source": [
    "roc_auc_score(DT1_pred, y_test)"
   ]
  },
  {
   "cell_type": "code",
   "execution_count": 126,
   "metadata": {},
   "outputs": [
    {
     "data": {
      "text/plain": [
       "0.7408258374184906"
      ]
     },
     "execution_count": 126,
     "metadata": {},
     "output_type": "execute_result"
    }
   ],
   "source": [
    "roc_auc_score(DT1_pred_under, y_test_under)"
   ]
  },
  {
   "cell_type": "code",
   "execution_count": 130,
   "metadata": {},
   "outputs": [
    {
     "data": {
      "text/plain": [
       "0.8935357553236286"
      ]
     },
     "execution_count": 130,
     "metadata": {},
     "output_type": "execute_result"
    }
   ],
   "source": [
    "roc_auc_score(DT1_pred_over, y_test_over)"
   ]
  },
  {
   "cell_type": "markdown",
   "metadata": {},
   "source": [
    "##  Conclusion."
   ]
  },
  {
   "cell_type": "code",
   "execution_count": 132,
   "metadata": {},
   "outputs": [],
   "source": [
    "# submission of .csv file with predictions\n",
    "sub = pd.DataFrame()\n",
    "sub['ID'] = X_test_over.index\n",
    "sub['quality'] = DT1_pred_over\n",
    "sub.to_csv('WinePredictionsTest.csv', index=False)"
   ]
  },
  {
   "cell_type": "markdown",
   "metadata": {},
   "source": [
    "Question: Predict which wines are 'Good/1' and 'Not Good/0' (use binary classification; check balance of classes; calculate perdictions; choose the best model).\n",
    "\n",
    "Answers:\n",
    "\n",
    "Binary classification was applied.\n",
    "\n",
    "Classes were highly imbalanced. There are 66.52 % of 'Not Good' quality wines and only 33.48 % of 'Good' quality wines in our dataset.\n",
    "\n",
    "Three options were applied in order to calculate the best predictions:\n",
    "\n",
    "Calculate predictions with imbalanced dataset\n",
    "Calculate predictions with random under-sampling technique of an imbalanced dataset\n",
    "Calculate predictions with random over-sampling technique of an imbalanced dataset\n",
    "Three ML models were used: Logistic Regression, KNN, Decision Tree (without and with hyper parameters).\n",
    "\n",
    "The best result was choosen:\n",
    "\n",
    "Random over-sampling dataset with 3258 enteties in class '0' and 3258 enteties in class '1', 6516 enteties in total.\n",
    "Train/Test split: test_size=0.2, random_state=0\n",
    "Decision Tree model with hyper parameters tuning ('criterion': 'entropy', 'max_depth': 20, 'random_state': 0), with an accuracy score equal 0.888804 and ROC-AUC score equal  0.888804."
   ]
  }
 ],
 "metadata": {
  "kernelspec": {
   "display_name": "Python 3 (ipykernel)",
   "language": "python",
   "name": "python3"
  },
  "language_info": {
   "codemirror_mode": {
    "name": "ipython",
    "version": 3
   },
   "file_extension": ".py",
   "mimetype": "text/x-python",
   "name": "python",
   "nbconvert_exporter": "python",
   "pygments_lexer": "ipython3",
   "version": "3.10.3"
  }
 },
 "nbformat": 4,
 "nbformat_minor": 2
}
